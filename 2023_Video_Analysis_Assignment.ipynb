{
  "cells": [
    {
      "cell_type": "markdown",
      "metadata": {
        "id": "view-in-github",
        "colab_type": "text"
      },
      "source": [
        "<a href=\"https://colab.research.google.com/github/AksharaReddyPatlannagari/AksharaReddyPatlannagari/blob/main/2023_Video_Analysis_Assignment.ipynb\" target=\"_parent\"><img src=\"https://colab.research.google.com/assets/colab-badge.svg\" alt=\"Open In Colab\"/></a>"
      ]
    },
    {
      "cell_type": "markdown",
      "metadata": {
        "id": "CFw627LWnyhw"
      },
      "source": [
        "# Assignment\n",
        "\n",
        "You can find the video data [here](https://drive.google.com/drive/folders/1QQ_vxLraeHhoJGHOiQmfF8Qo_ixNbrsz?usp=sharing).\n",
        "\n",
        "Before downloading the data you are required to sign the NDA in the folder and submit that [here](https://www.dropbox.com/request/WTn6MSZa9T9ZtZZ8Fnz3) as **FirstName_LastName_CA.pdf**.\n",
        "\n",
        "These are TV ads that belong to 8 brands. The creative_data.csv file has all the brand_ids (that is the name of the zip), creative_data_id (that is the name of the video), and the corresponding description. Some descriptions are the same for multiple videos and some are empty. Same descriptions can be leveraged by your descretion, you can delete the ones without a description.\n",
        "\n",
        "**Instructions: Please open this notebook in google colab and once you have completed the assignment, press share on the top right. Make available for anyone with a link. Then send the link to: y.bart@northeastern.edu and govergoor@saunders.rit.edu. Briefly describe how much time it took and what difficulties you encountered.**"
      ]
    },
    {
      "cell_type": "markdown",
      "metadata": {
        "id": "Va0vbjsqoF-K"
      },
      "source": [
        "# Task 1\n",
        "\n",
        "\n",
        "Answer the following questions\n",
        "1. Find the length of all the videos and plot a histogram. Provide your findings\n",
        "2. What is the average total frames per video?\n",
        "3. What is the average frame rate (Frame Per Second, FPS)?\n",
        "\n",
        "Perform the below tasks\n",
        "1. For each video, extract 10 frames per second of data using OpenCV\n",
        "2. Store the frames in each seperate folder using the **OS library**.\n",
        "3. Create a dataframe with 3 columns Video ID, Frame Name, Frame Location.\n",
        "4. Create a dataframe using video descriptions and merge it with the original data frame using video id\n",
        "**Note - Bonus Points for creating the data frame using Generators**\n",
        "\n",
        "\n"
      ]
    },
    {
      "cell_type": "code",
      "source": [
        "from google.colab import drive\n",
        "drive.mount('/content/drive')"
      ],
      "metadata": {
        "colab": {
          "base_uri": "https://localhost:8080/"
        },
        "id": "oUMa0gtueMTy",
        "outputId": "ca0a7ff8-0e5b-4bf5-ad46-284fdc82b6ed"
      },
      "execution_count": null,
      "outputs": [
        {
          "output_type": "stream",
          "name": "stdout",
          "text": [
            "Drive already mounted at /content/drive; to attempt to forcibly remount, call drive.mount(\"/content/drive\", force_remount=True).\n"
          ]
        }
      ]
    },
    {
      "cell_type": "code",
      "source": [
        "import pandas as pd\n",
        "import numpy as np"
      ],
      "metadata": {
        "id": "iUFCdyXbZC9H"
      },
      "execution_count": null,
      "outputs": []
    },
    {
      "cell_type": "code",
      "source": [
        "df=pd.read_csv(\"/content/drive/MyDrive/VideoAssignment/creative_data.csv\")\n",
        "df"
      ],
      "metadata": {
        "colab": {
          "base_uri": "https://localhost:8080/",
          "height": 453
        },
        "id": "XMRrG574avGu",
        "outputId": "b0590777-eb48-4429-ea7c-c25dfe3d3638"
      },
      "execution_count": null,
      "outputs": [
        {
          "output_type": "execute_result",
          "data": {
            "text/plain": [
              "     brand_data_id  creative_data_id  \\\n",
              "0            30461           1559007   \n",
              "1            30461           1563042   \n",
              "2            44673           1642698   \n",
              "3            44673           1647514   \n",
              "4            44673           1646561   \n",
              "..             ...               ...   \n",
              "313          53207           3386439   \n",
              "314          53207           3178343   \n",
              "315          53207           3386440   \n",
              "316          53207           2712954   \n",
              "317          53207           2882639   \n",
              "\n",
              "                                   creative_data_title  \\\n",
              "0    15s Body Spray vs. Dry Spray: An Education - 1...   \n",
              "1         15s Espray corporal vs espray seco - 1563042   \n",
              "2                             30s Call Santa - 1642698   \n",
              "3                      15s Cooking: Discount - 1647514   \n",
              "4                      30s Cooking: Discount - 1646561   \n",
              "..                                                 ...   \n",
              "313                   30s No Nonsense: Jamey - 3386439   \n",
              "314          60s No Nonsense: John and Paula - 3178343   \n",
              "315                     30s No Nonsense: Kim - 3386440   \n",
              "316          30s Take Care of Your Customers - 2712954   \n",
              "317  60s Things Are Looking Up for Small Businesses...   \n",
              "\n",
              "                             creative_data_description  \n",
              "0    To prove that he will stay fresh all day, this...  \n",
              "1    Un joven quiere comprobar que seguirá fresco t...  \n",
              "2    Weeks before Christmas, antsy boys and girls h...  \n",
              "3    Google demonstrates how the Google Home Mini c...  \n",
              "4    For the chef who doesn't want to check the rec...  \n",
              "..                                                 ...  \n",
              "313  Jamey, a print shop owner, is struggling to ma...  \n",
              "314  The owners of an Interior Design Firm are havi...  \n",
              "315  Kim is opening a coffee shop and is shopping f...  \n",
              "316  Your business might be small, but it's all you...  \n",
              "317  Spectrum Business says that things are startin...  \n",
              "\n",
              "[318 rows x 4 columns]"
            ],
            "text/html": [
              "\n",
              "  <div id=\"df-589a90e0-dd34-40fd-84af-26666b8004d2\" class=\"colab-df-container\">\n",
              "    <div>\n",
              "<style scoped>\n",
              "    .dataframe tbody tr th:only-of-type {\n",
              "        vertical-align: middle;\n",
              "    }\n",
              "\n",
              "    .dataframe tbody tr th {\n",
              "        vertical-align: top;\n",
              "    }\n",
              "\n",
              "    .dataframe thead th {\n",
              "        text-align: right;\n",
              "    }\n",
              "</style>\n",
              "<table border=\"1\" class=\"dataframe\">\n",
              "  <thead>\n",
              "    <tr style=\"text-align: right;\">\n",
              "      <th></th>\n",
              "      <th>brand_data_id</th>\n",
              "      <th>creative_data_id</th>\n",
              "      <th>creative_data_title</th>\n",
              "      <th>creative_data_description</th>\n",
              "    </tr>\n",
              "  </thead>\n",
              "  <tbody>\n",
              "    <tr>\n",
              "      <th>0</th>\n",
              "      <td>30461</td>\n",
              "      <td>1559007</td>\n",
              "      <td>15s Body Spray vs. Dry Spray: An Education - 1...</td>\n",
              "      <td>To prove that he will stay fresh all day, this...</td>\n",
              "    </tr>\n",
              "    <tr>\n",
              "      <th>1</th>\n",
              "      <td>30461</td>\n",
              "      <td>1563042</td>\n",
              "      <td>15s Espray corporal vs espray seco - 1563042</td>\n",
              "      <td>Un joven quiere comprobar que seguirá fresco t...</td>\n",
              "    </tr>\n",
              "    <tr>\n",
              "      <th>2</th>\n",
              "      <td>44673</td>\n",
              "      <td>1642698</td>\n",
              "      <td>30s Call Santa - 1642698</td>\n",
              "      <td>Weeks before Christmas, antsy boys and girls h...</td>\n",
              "    </tr>\n",
              "    <tr>\n",
              "      <th>3</th>\n",
              "      <td>44673</td>\n",
              "      <td>1647514</td>\n",
              "      <td>15s Cooking: Discount - 1647514</td>\n",
              "      <td>Google demonstrates how the Google Home Mini c...</td>\n",
              "    </tr>\n",
              "    <tr>\n",
              "      <th>4</th>\n",
              "      <td>44673</td>\n",
              "      <td>1646561</td>\n",
              "      <td>30s Cooking: Discount - 1646561</td>\n",
              "      <td>For the chef who doesn't want to check the rec...</td>\n",
              "    </tr>\n",
              "    <tr>\n",
              "      <th>...</th>\n",
              "      <td>...</td>\n",
              "      <td>...</td>\n",
              "      <td>...</td>\n",
              "      <td>...</td>\n",
              "    </tr>\n",
              "    <tr>\n",
              "      <th>313</th>\n",
              "      <td>53207</td>\n",
              "      <td>3386439</td>\n",
              "      <td>30s No Nonsense: Jamey - 3386439</td>\n",
              "      <td>Jamey, a print shop owner, is struggling to ma...</td>\n",
              "    </tr>\n",
              "    <tr>\n",
              "      <th>314</th>\n",
              "      <td>53207</td>\n",
              "      <td>3178343</td>\n",
              "      <td>60s No Nonsense: John and Paula - 3178343</td>\n",
              "      <td>The owners of an Interior Design Firm are havi...</td>\n",
              "    </tr>\n",
              "    <tr>\n",
              "      <th>315</th>\n",
              "      <td>53207</td>\n",
              "      <td>3386440</td>\n",
              "      <td>30s No Nonsense: Kim - 3386440</td>\n",
              "      <td>Kim is opening a coffee shop and is shopping f...</td>\n",
              "    </tr>\n",
              "    <tr>\n",
              "      <th>316</th>\n",
              "      <td>53207</td>\n",
              "      <td>2712954</td>\n",
              "      <td>30s Take Care of Your Customers - 2712954</td>\n",
              "      <td>Your business might be small, but it's all you...</td>\n",
              "    </tr>\n",
              "    <tr>\n",
              "      <th>317</th>\n",
              "      <td>53207</td>\n",
              "      <td>2882639</td>\n",
              "      <td>60s Things Are Looking Up for Small Businesses...</td>\n",
              "      <td>Spectrum Business says that things are startin...</td>\n",
              "    </tr>\n",
              "  </tbody>\n",
              "</table>\n",
              "<p>318 rows × 4 columns</p>\n",
              "</div>\n",
              "    <div class=\"colab-df-buttons\">\n",
              "\n",
              "  <div class=\"colab-df-container\">\n",
              "    <button class=\"colab-df-convert\" onclick=\"convertToInteractive('df-589a90e0-dd34-40fd-84af-26666b8004d2')\"\n",
              "            title=\"Convert this dataframe to an interactive table.\"\n",
              "            style=\"display:none;\">\n",
              "\n",
              "  <svg xmlns=\"http://www.w3.org/2000/svg\" height=\"24px\" viewBox=\"0 -960 960 960\">\n",
              "    <path d=\"M120-120v-720h720v720H120Zm60-500h600v-160H180v160Zm220 220h160v-160H400v160Zm0 220h160v-160H400v160ZM180-400h160v-160H180v160Zm440 0h160v-160H620v160ZM180-180h160v-160H180v160Zm440 0h160v-160H620v160Z\"/>\n",
              "  </svg>\n",
              "    </button>\n",
              "\n",
              "  <style>\n",
              "    .colab-df-container {\n",
              "      display:flex;\n",
              "      gap: 12px;\n",
              "    }\n",
              "\n",
              "    .colab-df-convert {\n",
              "      background-color: #E8F0FE;\n",
              "      border: none;\n",
              "      border-radius: 50%;\n",
              "      cursor: pointer;\n",
              "      display: none;\n",
              "      fill: #1967D2;\n",
              "      height: 32px;\n",
              "      padding: 0 0 0 0;\n",
              "      width: 32px;\n",
              "    }\n",
              "\n",
              "    .colab-df-convert:hover {\n",
              "      background-color: #E2EBFA;\n",
              "      box-shadow: 0px 1px 2px rgba(60, 64, 67, 0.3), 0px 1px 3px 1px rgba(60, 64, 67, 0.15);\n",
              "      fill: #174EA6;\n",
              "    }\n",
              "\n",
              "    .colab-df-buttons div {\n",
              "      margin-bottom: 4px;\n",
              "    }\n",
              "\n",
              "    [theme=dark] .colab-df-convert {\n",
              "      background-color: #3B4455;\n",
              "      fill: #D2E3FC;\n",
              "    }\n",
              "\n",
              "    [theme=dark] .colab-df-convert:hover {\n",
              "      background-color: #434B5C;\n",
              "      box-shadow: 0px 1px 3px 1px rgba(0, 0, 0, 0.15);\n",
              "      filter: drop-shadow(0px 1px 2px rgba(0, 0, 0, 0.3));\n",
              "      fill: #FFFFFF;\n",
              "    }\n",
              "  </style>\n",
              "\n",
              "    <script>\n",
              "      const buttonEl =\n",
              "        document.querySelector('#df-589a90e0-dd34-40fd-84af-26666b8004d2 button.colab-df-convert');\n",
              "      buttonEl.style.display =\n",
              "        google.colab.kernel.accessAllowed ? 'block' : 'none';\n",
              "\n",
              "      async function convertToInteractive(key) {\n",
              "        const element = document.querySelector('#df-589a90e0-dd34-40fd-84af-26666b8004d2');\n",
              "        const dataTable =\n",
              "          await google.colab.kernel.invokeFunction('convertToInteractive',\n",
              "                                                    [key], {});\n",
              "        if (!dataTable) return;\n",
              "\n",
              "        const docLinkHtml = 'Like what you see? Visit the ' +\n",
              "          '<a target=\"_blank\" href=https://colab.research.google.com/notebooks/data_table.ipynb>data table notebook</a>'\n",
              "          + ' to learn more about interactive tables.';\n",
              "        element.innerHTML = '';\n",
              "        dataTable['output_type'] = 'display_data';\n",
              "        await google.colab.output.renderOutput(dataTable, element);\n",
              "        const docLink = document.createElement('div');\n",
              "        docLink.innerHTML = docLinkHtml;\n",
              "        element.appendChild(docLink);\n",
              "      }\n",
              "    </script>\n",
              "  </div>\n",
              "\n",
              "\n",
              "<div id=\"df-850135ae-971b-4737-9537-c79e1c043c33\">\n",
              "  <button class=\"colab-df-quickchart\" onclick=\"quickchart('df-850135ae-971b-4737-9537-c79e1c043c33')\"\n",
              "            title=\"Suggest charts.\"\n",
              "            style=\"display:none;\">\n",
              "\n",
              "<svg xmlns=\"http://www.w3.org/2000/svg\" height=\"24px\"viewBox=\"0 0 24 24\"\n",
              "     width=\"24px\">\n",
              "    <g>\n",
              "        <path d=\"M19 3H5c-1.1 0-2 .9-2 2v14c0 1.1.9 2 2 2h14c1.1 0 2-.9 2-2V5c0-1.1-.9-2-2-2zM9 17H7v-7h2v7zm4 0h-2V7h2v10zm4 0h-2v-4h2v4z\"/>\n",
              "    </g>\n",
              "</svg>\n",
              "  </button>\n",
              "\n",
              "<style>\n",
              "  .colab-df-quickchart {\n",
              "      --bg-color: #E8F0FE;\n",
              "      --fill-color: #1967D2;\n",
              "      --hover-bg-color: #E2EBFA;\n",
              "      --hover-fill-color: #174EA6;\n",
              "      --disabled-fill-color: #AAA;\n",
              "      --disabled-bg-color: #DDD;\n",
              "  }\n",
              "\n",
              "  [theme=dark] .colab-df-quickchart {\n",
              "      --bg-color: #3B4455;\n",
              "      --fill-color: #D2E3FC;\n",
              "      --hover-bg-color: #434B5C;\n",
              "      --hover-fill-color: #FFFFFF;\n",
              "      --disabled-bg-color: #3B4455;\n",
              "      --disabled-fill-color: #666;\n",
              "  }\n",
              "\n",
              "  .colab-df-quickchart {\n",
              "    background-color: var(--bg-color);\n",
              "    border: none;\n",
              "    border-radius: 50%;\n",
              "    cursor: pointer;\n",
              "    display: none;\n",
              "    fill: var(--fill-color);\n",
              "    height: 32px;\n",
              "    padding: 0;\n",
              "    width: 32px;\n",
              "  }\n",
              "\n",
              "  .colab-df-quickchart:hover {\n",
              "    background-color: var(--hover-bg-color);\n",
              "    box-shadow: 0 1px 2px rgba(60, 64, 67, 0.3), 0 1px 3px 1px rgba(60, 64, 67, 0.15);\n",
              "    fill: var(--button-hover-fill-color);\n",
              "  }\n",
              "\n",
              "  .colab-df-quickchart-complete:disabled,\n",
              "  .colab-df-quickchart-complete:disabled:hover {\n",
              "    background-color: var(--disabled-bg-color);\n",
              "    fill: var(--disabled-fill-color);\n",
              "    box-shadow: none;\n",
              "  }\n",
              "\n",
              "  .colab-df-spinner {\n",
              "    border: 2px solid var(--fill-color);\n",
              "    border-color: transparent;\n",
              "    border-bottom-color: var(--fill-color);\n",
              "    animation:\n",
              "      spin 1s steps(1) infinite;\n",
              "  }\n",
              "\n",
              "  @keyframes spin {\n",
              "    0% {\n",
              "      border-color: transparent;\n",
              "      border-bottom-color: var(--fill-color);\n",
              "      border-left-color: var(--fill-color);\n",
              "    }\n",
              "    20% {\n",
              "      border-color: transparent;\n",
              "      border-left-color: var(--fill-color);\n",
              "      border-top-color: var(--fill-color);\n",
              "    }\n",
              "    30% {\n",
              "      border-color: transparent;\n",
              "      border-left-color: var(--fill-color);\n",
              "      border-top-color: var(--fill-color);\n",
              "      border-right-color: var(--fill-color);\n",
              "    }\n",
              "    40% {\n",
              "      border-color: transparent;\n",
              "      border-right-color: var(--fill-color);\n",
              "      border-top-color: var(--fill-color);\n",
              "    }\n",
              "    60% {\n",
              "      border-color: transparent;\n",
              "      border-right-color: var(--fill-color);\n",
              "    }\n",
              "    80% {\n",
              "      border-color: transparent;\n",
              "      border-right-color: var(--fill-color);\n",
              "      border-bottom-color: var(--fill-color);\n",
              "    }\n",
              "    90% {\n",
              "      border-color: transparent;\n",
              "      border-bottom-color: var(--fill-color);\n",
              "    }\n",
              "  }\n",
              "</style>\n",
              "\n",
              "  <script>\n",
              "    async function quickchart(key) {\n",
              "      const quickchartButtonEl =\n",
              "        document.querySelector('#' + key + ' button');\n",
              "      quickchartButtonEl.disabled = true;  // To prevent multiple clicks.\n",
              "      quickchartButtonEl.classList.add('colab-df-spinner');\n",
              "      try {\n",
              "        const charts = await google.colab.kernel.invokeFunction(\n",
              "            'suggestCharts', [key], {});\n",
              "      } catch (error) {\n",
              "        console.error('Error during call to suggestCharts:', error);\n",
              "      }\n",
              "      quickchartButtonEl.classList.remove('colab-df-spinner');\n",
              "      quickchartButtonEl.classList.add('colab-df-quickchart-complete');\n",
              "    }\n",
              "    (() => {\n",
              "      let quickchartButtonEl =\n",
              "        document.querySelector('#df-850135ae-971b-4737-9537-c79e1c043c33 button');\n",
              "      quickchartButtonEl.style.display =\n",
              "        google.colab.kernel.accessAllowed ? 'block' : 'none';\n",
              "    })();\n",
              "  </script>\n",
              "</div>\n",
              "    </div>\n",
              "  </div>\n"
            ]
          },
          "metadata": {},
          "execution_count": 3
        }
      ]
    },
    {
      "cell_type": "code",
      "source": [
        "df.shape[0]"
      ],
      "metadata": {
        "colab": {
          "base_uri": "https://localhost:8080/"
        },
        "id": "sCkimFYRhiUE",
        "outputId": "a6487c0b-556b-4b20-b5df-9819faa1ecd6"
      },
      "execution_count": null,
      "outputs": [
        {
          "output_type": "execute_result",
          "data": {
            "text/plain": [
              "318"
            ]
          },
          "metadata": {},
          "execution_count": 4
        }
      ]
    },
    {
      "cell_type": "code",
      "source": [
        "df.columns"
      ],
      "metadata": {
        "colab": {
          "base_uri": "https://localhost:8080/"
        },
        "id": "uaskzrs7jpeI",
        "outputId": "de6d768d-e5d5-4b5a-b38b-e3969d3a6871"
      },
      "execution_count": null,
      "outputs": [
        {
          "output_type": "execute_result",
          "data": {
            "text/plain": [
              "Index(['brand_data_id', 'creative_data_id', 'creative_data_title',\n",
              "       'creative_data_description'],\n",
              "      dtype='object')"
            ]
          },
          "metadata": {},
          "execution_count": 5
        }
      ]
    },
    {
      "cell_type": "code",
      "source": [
        "df.loc[0,'brand_data_id']"
      ],
      "metadata": {
        "colab": {
          "base_uri": "https://localhost:8080/"
        },
        "id": "R8U8M2QzkeWF",
        "outputId": "c68e928a-343b-4b87-b442-f0b3989d3e47"
      },
      "execution_count": null,
      "outputs": [
        {
          "output_type": "execute_result",
          "data": {
            "text/plain": [
              "30461"
            ]
          },
          "metadata": {},
          "execution_count": 10
        }
      ]
    },
    {
      "cell_type": "code",
      "source": [
        "df.dtypes"
      ],
      "metadata": {
        "colab": {
          "base_uri": "https://localhost:8080/"
        },
        "id": "JEddRQf-nfGo",
        "outputId": "214b8a27-e042-4c11-9d38-0761c9353e20"
      },
      "execution_count": null,
      "outputs": [
        {
          "output_type": "execute_result",
          "data": {
            "text/plain": [
              "brand_data_id                 int64\n",
              "creative_data_id              int64\n",
              "creative_data_title          object\n",
              "creative_data_description    object\n",
              "dtype: object"
            ]
          },
          "metadata": {},
          "execution_count": 13
        }
      ]
    },
    {
      "cell_type": "code",
      "source": [
        "'/content/drive/MyDrive/VideoAssignment/'+ str(df.loc[0,'brand_data_id'])+'.zip/'+ str(df.loc[0,'creative_data_id'])"
      ],
      "metadata": {
        "colab": {
          "base_uri": "https://localhost:8080/",
          "height": 35
        },
        "id": "XxP3SA17qC8P",
        "outputId": "8b0bb018-d891-406e-e2f4-defba0a945df"
      },
      "execution_count": null,
      "outputs": [
        {
          "output_type": "execute_result",
          "data": {
            "text/plain": [
              "'/content/drive/MyDrive/VideoAssignment/30461.zip/1559007'"
            ],
            "application/vnd.google.colaboratory.intrinsic+json": {
              "type": "string"
            }
          },
          "metadata": {},
          "execution_count": 25
        }
      ]
    },
    {
      "cell_type": "code",
      "source": [
        "for i in range(df.shape[0]):\n",
        "  with open('/content/drive/MyDrive/VideoAssignment/'+ str(df.loc[i,'brand_data_id'])+'.zip/'+ str(df.loc[i,'creative_data_id'])+'.mp4', 'r') as f:\n",
        "    data=f.read()"
      ],
      "metadata": {
        "id": "u-pHidKrlQve",
        "colab": {
          "base_uri": "https://localhost:8080/",
          "height": 225
        },
        "outputId": "e165bdcf-466e-4b55-e6bc-b5be7fd0cb1a"
      },
      "execution_count": null,
      "outputs": [
        {
          "output_type": "error",
          "ename": "TypeError",
          "evalue": "ignored",
          "traceback": [
            "\u001b[0;31m---------------------------------------------------------------------------\u001b[0m",
            "\u001b[0;31mTypeError\u001b[0m                                 Traceback (most recent call last)",
            "\u001b[0;32m<ipython-input-23-e8ff0f0d3c51>\u001b[0m in \u001b[0;36m<cell line: 1>\u001b[0;34m()\u001b[0m\n\u001b[1;32m      1\u001b[0m \u001b[0;32mfor\u001b[0m \u001b[0mi\u001b[0m \u001b[0;32min\u001b[0m \u001b[0mrange\u001b[0m\u001b[0;34m(\u001b[0m\u001b[0mdf\u001b[0m\u001b[0;34m.\u001b[0m\u001b[0mshape\u001b[0m\u001b[0;34m[\u001b[0m\u001b[0;36m0\u001b[0m\u001b[0;34m]\u001b[0m\u001b[0;34m)\u001b[0m\u001b[0;34m:\u001b[0m\u001b[0;34m\u001b[0m\u001b[0;34m\u001b[0m\u001b[0m\n\u001b[0;32m----> 2\u001b[0;31m   \u001b[0;32mwith\u001b[0m \u001b[0mopen\u001b[0m\u001b[0;34m(\u001b[0m\u001b[0;34m'/content/drive/MyDrive/VideoAssignment/'\u001b[0m\u001b[0;34m+\u001b[0m \u001b[0mstr\u001b[0m\u001b[0;34m(\u001b[0m\u001b[0mdf\u001b[0m\u001b[0;34m.\u001b[0m\u001b[0mloc\u001b[0m\u001b[0;34m[\u001b[0m\u001b[0mi\u001b[0m\u001b[0;34m,\u001b[0m\u001b[0;34m'brand_data_id'\u001b[0m\u001b[0;34m]\u001b[0m\u001b[0;34m)\u001b[0m\u001b[0;34m+\u001b[0m\u001b[0;34m'.zip'\u001b[0m\u001b[0;34m+\u001b[0m \u001b[0mdf\u001b[0m\u001b[0;34m.\u001b[0m\u001b[0mloc\u001b[0m\u001b[0;34m[\u001b[0m\u001b[0mi\u001b[0m\u001b[0;34m,\u001b[0m\u001b[0;34m'creative_data_id'\u001b[0m\u001b[0;34m]\u001b[0m\u001b[0;34m,\u001b[0m \u001b[0;34m'r'\u001b[0m\u001b[0;34m)\u001b[0m \u001b[0;32mas\u001b[0m \u001b[0mf\u001b[0m\u001b[0;34m:\u001b[0m\u001b[0;34m\u001b[0m\u001b[0;34m\u001b[0m\u001b[0m\n\u001b[0m\u001b[1;32m      3\u001b[0m     \u001b[0mdata\u001b[0m\u001b[0;34m=\u001b[0m\u001b[0mf\u001b[0m\u001b[0;34m.\u001b[0m\u001b[0mread\u001b[0m\u001b[0;34m(\u001b[0m\u001b[0;34m)\u001b[0m\u001b[0;34m\u001b[0m\u001b[0;34m\u001b[0m\u001b[0m\n",
            "\u001b[0;31mTypeError\u001b[0m: can only concatenate str (not \"numpy.int64\") to str"
          ]
        }
      ]
    },
    {
      "cell_type": "markdown",
      "metadata": {
        "id": "0Nc0gvQ-85wN"
      },
      "source": [
        "#Task 2\n",
        "\n",
        "Given the description, find the top 10 most relevant frames based on the text description of the video using the CLIP algorithm.\n",
        "\n"
      ]
    },
    {
      "cell_type": "markdown",
      "metadata": {
        "id": "rUBSUkgAQTcv"
      },
      "source": [
        "\n",
        "#Task 3\n",
        "\n",
        "Find the nth seconds of the video where the frames would be encounterd. Calcuate based on the frame rate found above. Write a function to calcuate the output and return a list of seconds for all the videos.\n",
        "\n",
        "Example - For a video with 30 fps and 30 seconds long, if frames 1, 15, 45, 70,90, 350 were the top hits from the CLIP then the information present in 1st, 2nd, 3rd, 12th second is truly relevant to the description"
      ]
    },
    {
      "cell_type": "markdown",
      "metadata": {
        "id": "oSBW8SABR27_"
      },
      "source": [
        "#Task 4\n",
        "\n",
        "\n",
        "Plot all the video time indexes(output from the last task) onto a single plot (using the concept the subplots) and comment on the distribution"
      ]
    },
    {
      "cell_type": "markdown",
      "metadata": {
        "id": "CV9SVM-jSvJI"
      },
      "source": [
        "# Task 5\n",
        "\n",
        "Imagine you are an advertising agency and you are using the algorithms from the previous tasks to determine how well a video is designed according to the description. This will help you determine what ad creators were able to create a good video based on the descriptions that were provided.\n",
        "\n",
        "1. Find the 5 best and 5 worst videos based on the descriptions and the top 10 frames you extracted in Task 2. Describe how you determined whether or not the video was a good representation of the textual description.\n",
        "\n",
        "2. Plot the videos, the top 10 frames, and the descriptions. Describe what you observe.\n",
        "\n",
        "**(These last 2 tasks do not need to be coded)**\n",
        "\n",
        "3. Imagine you have multiple 30 second versions of a TV ad campaign. All with the same description, but the videos were created by different adcreators. How would you use your algorithm to determine what ad creator to work with for the creation of a new video?\n",
        "\n",
        "4. Would it be possible to automatically generate a 15 second video based on a 30 second video using your algorithm? If so, describe how you would do it.\n"
      ]
    }
  ],
  "metadata": {
    "colab": {
      "provenance": [],
      "include_colab_link": true
    },
    "kernelspec": {
      "display_name": "Python 3",
      "name": "python3"
    },
    "language_info": {
      "name": "python"
    }
  },
  "nbformat": 4,
  "nbformat_minor": 0
}